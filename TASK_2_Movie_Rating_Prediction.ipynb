{
  "cells": [
    {
      "cell_type": "markdown",
      "metadata": {
        "id": "94rOvY8_BKAi"
      },
      "source": [
        "**CODSOFT INTERNSHIP**\n",
        "\n",
        "TASK 2: Movie Rating Prediction\n",
        "\n",
        "by: Yogendra Patel\n"
      ]
    },
    {
      "cell_type": "markdown",
      "metadata": {
        "id": "HIJVl0-2bMtx"
      },
      "source": [
        "# ***Let's Begin !***"
      ]
    },
    {
      "cell_type": "markdown",
      "metadata": {
        "id": "Uc0lBS2NbvwW"
      },
      "source": [
        "### Import Libraries"
      ]
    },
    {
      "cell_type": "code",
      "execution_count": 1,
      "metadata": {
        "id": "YC-Hc0utb18t"
      },
      "outputs": [],
      "source": [
        "import numpy as np\n",
        "import pandas as pd\n",
        "import seaborn as sns\n",
        "import matplotlib.pyplot as plt"
      ]
    },
    {
      "cell_type": "code",
      "execution_count": 2,
      "metadata": {
        "id": "lrL5D5M8jAX6"
      },
      "outputs": [],
      "source": [
        "Movie_data = pd.read_csv('IMDb Movies India.csv', encoding='latin1')"
      ]
    },
    {
      "cell_type": "markdown",
      "metadata": {
        "id": "noDzfmPwjJdH"
      },
      "source": [
        "### Dataset First View"
      ]
    },
    {
      "cell_type": "code",
      "execution_count": 3,
      "metadata": {
        "colab": {
          "base_uri": "https://localhost:8080/",
          "height": 206
        },
        "id": "ddLUf-UDizKt",
        "outputId": "08cc6ecb-8cab-4bab-c7b7-a04b7f0140e5"
      },
      "outputs": [
        {
          "data": {
            "text/html": [
              "<div>\n",
              "<style scoped>\n",
              "    .dataframe tbody tr th:only-of-type {\n",
              "        vertical-align: middle;\n",
              "    }\n",
              "\n",
              "    .dataframe tbody tr th {\n",
              "        vertical-align: top;\n",
              "    }\n",
              "\n",
              "    .dataframe thead th {\n",
              "        text-align: right;\n",
              "    }\n",
              "</style>\n",
              "<table border=\"1\" class=\"dataframe\">\n",
              "  <thead>\n",
              "    <tr style=\"text-align: right;\">\n",
              "      <th></th>\n",
              "      <th>Name</th>\n",
              "      <th>Year</th>\n",
              "      <th>Duration</th>\n",
              "      <th>Genre</th>\n",
              "      <th>Rating</th>\n",
              "      <th>Votes</th>\n",
              "      <th>Director</th>\n",
              "      <th>Actor 1</th>\n",
              "      <th>Actor 2</th>\n",
              "      <th>Actor 3</th>\n",
              "    </tr>\n",
              "  </thead>\n",
              "  <tbody>\n",
              "    <tr>\n",
              "      <th>0</th>\n",
              "      <td></td>\n",
              "      <td>NaN</td>\n",
              "      <td>NaN</td>\n",
              "      <td>Drama</td>\n",
              "      <td>NaN</td>\n",
              "      <td>NaN</td>\n",
              "      <td>J.S. Randhawa</td>\n",
              "      <td>Manmauji</td>\n",
              "      <td>Birbal</td>\n",
              "      <td>Rajendra Bhatia</td>\n",
              "    </tr>\n",
              "    <tr>\n",
              "      <th>1</th>\n",
              "      <td>#Gadhvi (He thought he was Gandhi)</td>\n",
              "      <td>(2019)</td>\n",
              "      <td>109 min</td>\n",
              "      <td>Drama</td>\n",
              "      <td>7.0</td>\n",
              "      <td>8</td>\n",
              "      <td>Gaurav Bakshi</td>\n",
              "      <td>Rasika Dugal</td>\n",
              "      <td>Vivek Ghamande</td>\n",
              "      <td>Arvind Jangid</td>\n",
              "    </tr>\n",
              "    <tr>\n",
              "      <th>2</th>\n",
              "      <td>#Homecoming</td>\n",
              "      <td>(2021)</td>\n",
              "      <td>90 min</td>\n",
              "      <td>Drama, Musical</td>\n",
              "      <td>NaN</td>\n",
              "      <td>NaN</td>\n",
              "      <td>Soumyajit Majumdar</td>\n",
              "      <td>Sayani Gupta</td>\n",
              "      <td>Plabita Borthakur</td>\n",
              "      <td>Roy Angana</td>\n",
              "    </tr>\n",
              "    <tr>\n",
              "      <th>3</th>\n",
              "      <td>#Yaaram</td>\n",
              "      <td>(2019)</td>\n",
              "      <td>110 min</td>\n",
              "      <td>Comedy, Romance</td>\n",
              "      <td>4.4</td>\n",
              "      <td>35</td>\n",
              "      <td>Ovais Khan</td>\n",
              "      <td>Prateik</td>\n",
              "      <td>Ishita Raj</td>\n",
              "      <td>Siddhant Kapoor</td>\n",
              "    </tr>\n",
              "    <tr>\n",
              "      <th>4</th>\n",
              "      <td>...And Once Again</td>\n",
              "      <td>(2010)</td>\n",
              "      <td>105 min</td>\n",
              "      <td>Drama</td>\n",
              "      <td>NaN</td>\n",
              "      <td>NaN</td>\n",
              "      <td>Amol Palekar</td>\n",
              "      <td>Rajat Kapoor</td>\n",
              "      <td>Rituparna Sengupta</td>\n",
              "      <td>Antara Mali</td>\n",
              "    </tr>\n",
              "  </tbody>\n",
              "</table>\n",
              "</div>"
            ],
            "text/plain": [
              "                                 Name    Year Duration            Genre  \\\n",
              "0                                         NaN      NaN            Drama   \n",
              "1  #Gadhvi (He thought he was Gandhi)  (2019)  109 min            Drama   \n",
              "2                         #Homecoming  (2021)   90 min   Drama, Musical   \n",
              "3                             #Yaaram  (2019)  110 min  Comedy, Romance   \n",
              "4                   ...And Once Again  (2010)  105 min            Drama   \n",
              "\n",
              "   Rating Votes            Director       Actor 1             Actor 2  \\\n",
              "0     NaN   NaN       J.S. Randhawa      Manmauji              Birbal   \n",
              "1     7.0     8       Gaurav Bakshi  Rasika Dugal      Vivek Ghamande   \n",
              "2     NaN   NaN  Soumyajit Majumdar  Sayani Gupta   Plabita Borthakur   \n",
              "3     4.4    35          Ovais Khan       Prateik          Ishita Raj   \n",
              "4     NaN   NaN        Amol Palekar  Rajat Kapoor  Rituparna Sengupta   \n",
              "\n",
              "           Actor 3  \n",
              "0  Rajendra Bhatia  \n",
              "1    Arvind Jangid  \n",
              "2       Roy Angana  \n",
              "3  Siddhant Kapoor  \n",
              "4      Antara Mali  "
            ]
          },
          "execution_count": 3,
          "metadata": {},
          "output_type": "execute_result"
        }
      ],
      "source": [
        "# Dataset First Look\n",
        "Movie_data.head()"
      ]
    },
    {
      "cell_type": "markdown",
      "metadata": {
        "id": "qeKLFbQSjaFy"
      },
      "source": [
        "### Dataset Rows & Columns count"
      ]
    },
    {
      "cell_type": "code",
      "execution_count": 4,
      "metadata": {
        "colab": {
          "base_uri": "https://localhost:8080/"
        },
        "id": "_8aXj0rujPaV",
        "outputId": "12e89155-b47a-4832-923b-8d545699944e"
      },
      "outputs": [
        {
          "data": {
            "text/plain": [
              "(15509, 10)"
            ]
          },
          "execution_count": 4,
          "metadata": {},
          "output_type": "execute_result"
        }
      ],
      "source": [
        "# Dataset Rows & Columns count\n",
        "Movie_data.shape"
      ]
    },
    {
      "cell_type": "markdown",
      "metadata": {
        "id": "KixgdbVIjvIM"
      },
      "source": [
        "### Dataset Information"
      ]
    },
    {
      "cell_type": "code",
      "execution_count": 5,
      "metadata": {
        "colab": {
          "base_uri": "https://localhost:8080/"
        },
        "id": "uAUPMtpyjnQy",
        "outputId": "b183c500-f48e-4d14-e494-2a3a4a6ef87d"
      },
      "outputs": [
        {
          "name": "stdout",
          "output_type": "stream",
          "text": [
            "<class 'pandas.core.frame.DataFrame'>\n",
            "RangeIndex: 15509 entries, 0 to 15508\n",
            "Data columns (total 10 columns):\n",
            " #   Column    Non-Null Count  Dtype  \n",
            "---  ------    --------------  -----  \n",
            " 0   Name      15509 non-null  object \n",
            " 1   Year      14981 non-null  object \n",
            " 2   Duration  7240 non-null   object \n",
            " 3   Genre     13632 non-null  object \n",
            " 4   Rating    7919 non-null   float64\n",
            " 5   Votes     7920 non-null   object \n",
            " 6   Director  14984 non-null  object \n",
            " 7   Actor 1   13892 non-null  object \n",
            " 8   Actor 2   13125 non-null  object \n",
            " 9   Actor 3   12365 non-null  object \n",
            "dtypes: float64(1), object(9)\n",
            "memory usage: 1.2+ MB\n"
          ]
        }
      ],
      "source": [
        "# Dataset Info\n",
        "Movie_data.info()"
      ]
    },
    {
      "cell_type": "markdown",
      "metadata": {
        "id": "DIUiWu_jkgp2"
      },
      "source": [
        "#### Duplicate Values"
      ]
    },
    {
      "cell_type": "code",
      "execution_count": 6,
      "metadata": {
        "colab": {
          "base_uri": "https://localhost:8080/"
        },
        "id": "GWzkDLXhj2h0",
        "outputId": "32e30417-d9bb-4eaa-a28a-f7c3dd628381"
      },
      "outputs": [
        {
          "name": "stdout",
          "output_type": "stream",
          "text": [
            "Number of Duplicate Rows in the Movie dataset: 6\n"
          ]
        }
      ],
      "source": [
        "# Dataset Duplicate Value Count\n",
        "num_duplicate_rows = Movie_data.duplicated().sum()\n",
        "\n",
        "# Display the number of duplicate rows\n",
        "print(\"Number of Duplicate Rows in the Movie dataset:\", num_duplicate_rows)"
      ]
    },
    {
      "cell_type": "markdown",
      "metadata": {
        "id": "TtTl4MvjlCin"
      },
      "source": [
        "#### Missing Values/Null Values"
      ]
    },
    {
      "cell_type": "code",
      "execution_count": 7,
      "metadata": {
        "colab": {
          "base_uri": "https://localhost:8080/"
        },
        "id": "g-LInV9bkUJY",
        "outputId": "0adabebf-69dd-49c7-b5ef-908c5575aaba"
      },
      "outputs": [
        {
          "name": "stdout",
          "output_type": "stream",
          "text": [
            "Missing Values Count:\n",
            "Name           0\n",
            "Year         528\n",
            "Duration    8269\n",
            "Genre       1877\n",
            "Rating      7590\n",
            "Votes       7589\n",
            "Director     525\n",
            "Actor 1     1617\n",
            "Actor 2     2384\n",
            "Actor 3     3144\n",
            "dtype: int64\n"
          ]
        }
      ],
      "source": [
        "# Missing Values/Null Values Count\n",
        "missing_values_count = Movie_data.isnull().sum()\n",
        "# Display the missing values count for each column\n",
        "print(\"Missing Values Count:\")\n",
        "print(missing_values_count)"
      ]
    },
    {
      "cell_type": "code",
      "execution_count": 8,
      "metadata": {
        "colab": {
          "base_uri": "https://localhost:8080/",
          "height": 603
        },
        "id": "JogCps4pDd5o",
        "outputId": "b888d62a-d50b-4955-f430-d029536bf12c"
      },
      "outputs": [
        {
          "data": {
            "image/png": "[encoded data removed]",
            "text/plain": [
              "<Figure size 1000x600 with 1 Axes>"
            ]
          },
          "metadata": {},
          "output_type": "display_data"
        }
      ],
      "source": [
        "# Plotting missing values count for each column\n",
        "plt.figure(figsize=(10, 6))\n",
        "missing_values_count.plot(kind='bar', color='skyblue')\n",
        "plt.title('Missing Values Count for Each Column')\n",
        "plt.xlabel('Columns')\n",
        "plt.ylabel('Missing Values Count')\n",
        "plt.xticks(rotation=45, ha='right')\n",
        "plt.show()"
      ]
    },
    {
      "cell_type": "code",
      "execution_count": 9,
      "metadata": {
        "colab": {
          "base_uri": "https://localhost:8080/"
        },
        "id": "nlmVJrj4DPXy",
        "outputId": "23252352-a6e0-4d54-bc03-26bc0e5c8ed7"
      },
      "outputs": [
        {
          "data": {
            "text/plain": [
              "Index(['Name', 'Year', 'Duration', 'Genre', 'Rating', 'Votes', 'Director',\n",
              "       'Actor 1', 'Actor 2', 'Actor 3'],\n",
              "      dtype='object')"
            ]
          },
          "execution_count": 9,
          "metadata": {},
          "output_type": "execute_result"
        }
      ],
      "source": [
        "# Dataset Columns\n",
        "Movie_data.columns"
      ]
    },
    {
      "cell_type": "code",
      "execution_count": 10,
      "metadata": {
        "colab": {
          "base_uri": "https://localhost:8080/",
          "height": 300
        },
        "id": "Fnhy11g2EblW",
        "outputId": "34d13b26-db82-43db-aa90-fec27bc5138b"
      },
      "outputs": [
        {
          "data": {
            "text/html": [
              "<div>\n",
              "<style scoped>\n",
              "    .dataframe tbody tr th:only-of-type {\n",
              "        vertical-align: middle;\n",
              "    }\n",
              "\n",
              "    .dataframe tbody tr th {\n",
              "        vertical-align: top;\n",
              "    }\n",
              "\n",
              "    .dataframe thead th {\n",
              "        text-align: right;\n",
              "    }\n",
              "</style>\n",
              "<table border=\"1\" class=\"dataframe\">\n",
              "  <thead>\n",
              "    <tr style=\"text-align: right;\">\n",
              "      <th></th>\n",
              "      <th>Rating</th>\n",
              "    </tr>\n",
              "  </thead>\n",
              "  <tbody>\n",
              "    <tr>\n",
              "      <th>count</th>\n",
              "      <td>7919.000000</td>\n",
              "    </tr>\n",
              "    <tr>\n",
              "      <th>mean</th>\n",
              "      <td>5.841621</td>\n",
              "    </tr>\n",
              "    <tr>\n",
              "      <th>std</th>\n",
              "      <td>1.381777</td>\n",
              "    </tr>\n",
              "    <tr>\n",
              "      <th>min</th>\n",
              "      <td>1.100000</td>\n",
              "    </tr>\n",
              "    <tr>\n",
              "      <th>25%</th>\n",
              "      <td>4.900000</td>\n",
              "    </tr>\n",
              "    <tr>\n",
              "      <th>50%</th>\n",
              "      <td>6.000000</td>\n",
              "    </tr>\n",
              "    <tr>\n",
              "      <th>75%</th>\n",
              "      <td>6.800000</td>\n",
              "    </tr>\n",
              "    <tr>\n",
              "      <th>max</th>\n",
              "      <td>10.000000</td>\n",
              "    </tr>\n",
              "  </tbody>\n",
              "</table>\n",
              "</div>"
            ],
            "text/plain": [
              "            Rating\n",
              "count  7919.000000\n",
              "mean      5.841621\n",
              "std       1.381777\n",
              "min       1.100000\n",
              "25%       4.900000\n",
              "50%       6.000000\n",
              "75%       6.800000\n",
              "max      10.000000"
            ]
          },
          "execution_count": 10,
          "metadata": {},
          "output_type": "execute_result"
        }
      ],
      "source": [
        "# Dataset Describe\n",
        "Movie_data.describe()"
      ]
    },
    {
      "cell_type": "markdown",
      "metadata": {
        "id": "Rs2OPrtsFDrz"
      },
      "source": [
        " ***Data Wrangling***"
      ]
    },
    {
      "cell_type": "code",
      "execution_count": 11,
      "metadata": {
        "id": "jqkPHxvyuXzy"
      },
      "outputs": [],
      "source": [
        "# Drop rows with missing 'Rating' values\n",
        "Movie_data.dropna(subset=[\"Rating\"], inplace=True)\n",
        "\n",
        "# Drop rows with missing values in 'Actor 1', 'Actor 2', 'Actor 3', 'Director', and 'Genre'\n",
        "Movie_data.dropna(subset=['Actor 1', 'Actor 2', 'Actor 3', 'Director', 'Genre'], inplace=True)\n"
      ]
    },
    {
      "cell_type": "code",
      "execution_count": 12,
      "metadata": {
        "colab": {
          "base_uri": "https://localhost:8080/"
        },
        "id": "JPWpoLols41F",
        "outputId": "0c0a441c-1065-4265-b1d9-93a8e228880f"
      },
      "outputs": [
        {
          "data": {
            "text/plain": [
              "Name           0\n",
              "Year           0\n",
              "Duration    1899\n",
              "Genre          0\n",
              "Rating         0\n",
              "Votes          0\n",
              "Director       0\n",
              "Actor 1        0\n",
              "Actor 2        0\n",
              "Actor 3        0\n",
              "dtype: int64"
            ]
          },
          "execution_count": 12,
          "metadata": {},
          "output_type": "execute_result"
        }
      ],
      "source": [
        "Movie_data.isnull().sum()"
      ]
    },
    {
      "cell_type": "code",
      "execution_count": 13,
      "metadata": {
        "id": "Ckt_1iHhuxwf"
      },
      "outputs": [
        {
          "name": "stderr",
          "output_type": "stream",
          "text": [
            "C:\\Users\\ASUS\\AppData\\Local\\Temp\\ipykernel_12796\\2241103438.py:11: FutureWarning: A value is trying to be set on a copy of a DataFrame or Series through chained assignment using an inplace method.\n",
            "The behavior will change in pandas 3.0. This inplace method will never work because the intermediate object on which we are setting values always behaves as a copy.\n",
            "\n",
            "For example, when doing 'df[col].method(value, inplace=True)', try using 'df.method({col: value}, inplace=True)' or df[col] = df[col].method(value) instead, to perform the operation inplace on the original object.\n",
            "\n",
            "\n",
            "  Movie_data['Duration'].fillna(Movie_data['Duration'].median(), inplace=True)\n"
          ]
        }
      ],
      "source": [
        "# Convert 'Votes' column to numeric by removing commas and converting to integer\n",
        "Movie_data['Votes'] = Movie_data['Votes'].str.replace(',', '').astype(int)\n",
        "\n",
        "# Convert 'Year' column by stripping parentheses and converting to integer\n",
        "Movie_data['Year'] = Movie_data['Year'].str.strip('()').astype(int)\n",
        "\n",
        "# Convert 'Duration' column by stripping 'min' and converting to integer\n",
        "Movie_data['Duration'] = Movie_data['Duration'].str.replace(' min', '').astype(float)\n",
        "\n",
        "# Impute missing values for 'Duration' with the median\n",
        "Movie_data['Duration'].fillna(Movie_data['Duration'].median(), inplace=True)\n"
      ]
    },
    {
      "cell_type": "code",
      "execution_count": 14,
      "metadata": {
        "colab": {
          "base_uri": "https://localhost:8080/"
        },
        "id": "v-vV7WQCvKH2",
        "outputId": "9eaa7997-f32c-431d-ca30-dfd9d0a1f184"
      },
      "outputs": [
        {
          "data": {
            "text/plain": [
              "Name        0\n",
              "Year        0\n",
              "Duration    0\n",
              "Genre       0\n",
              "Rating      0\n",
              "Votes       0\n",
              "Director    0\n",
              "Actor 1     0\n",
              "Actor 2     0\n",
              "Actor 3     0\n",
              "dtype: int64"
            ]
          },
          "execution_count": 14,
          "metadata": {},
          "output_type": "execute_result"
        }
      ],
      "source": [
        "# Missing Values/Null Values Count\n",
        "Movie_data.isnull().sum()"
      ]
    },
    {
      "cell_type": "code",
      "execution_count": 15,
      "metadata": {
        "id": "yv15iXGVEhG4"
      },
      "outputs": [],
      "source": [
        "# Remove duplicate rows\n",
        "Movie_data.drop_duplicates(inplace=True)"
      ]
    },
    {
      "cell_type": "code",
      "execution_count": 16,
      "metadata": {
        "colab": {
          "base_uri": "https://localhost:8080/"
        },
        "id": "xucNP1lsGCU8",
        "outputId": "0ad418d3-4cce-4249-9a48-1137a3dc1517"
      },
      "outputs": [
        {
          "name": "stdout",
          "output_type": "stream",
          "text": [
            "Number of Duplicate Rows in the Movie dataset: 0\n"
          ]
        }
      ],
      "source": [
        "# Dataset Duplicate Value Count\n",
        "num_duplicate_rows = Movie_data.duplicated().sum()\n",
        "\n",
        "# Display the number of duplicate rows\n",
        "print(\"Number of Duplicate Rows in the Movie dataset:\", num_duplicate_rows)"
      ]
    },
    {
      "cell_type": "code",
      "execution_count": 17,
      "metadata": {
        "colab": {
          "base_uri": "https://localhost:8080/",
          "height": 206
        },
        "id": "sxPMs_jjvUYs",
        "outputId": "4000a83c-3e7f-4e4b-9b7f-33023b7ca702"
      },
      "outputs": [
        {
          "data": {
            "text/html": [
              "<div>\n",
              "<style scoped>\n",
              "    .dataframe tbody tr th:only-of-type {\n",
              "        vertical-align: middle;\n",
              "    }\n",
              "\n",
              "    .dataframe tbody tr th {\n",
              "        vertical-align: top;\n",
              "    }\n",
              "\n",
              "    .dataframe thead th {\n",
              "        text-align: right;\n",
              "    }\n",
              "</style>\n",
              "<table border=\"1\" class=\"dataframe\">\n",
              "  <thead>\n",
              "    <tr style=\"text-align: right;\">\n",
              "      <th></th>\n",
              "      <th>Name</th>\n",
              "      <th>Year</th>\n",
              "      <th>Duration</th>\n",
              "      <th>Genre</th>\n",
              "      <th>Rating</th>\n",
              "      <th>Votes</th>\n",
              "      <th>Director</th>\n",
              "      <th>Actor 1</th>\n",
              "      <th>Actor 2</th>\n",
              "      <th>Actor 3</th>\n",
              "    </tr>\n",
              "  </thead>\n",
              "  <tbody>\n",
              "    <tr>\n",
              "      <th>1</th>\n",
              "      <td>#Gadhvi (He thought he was Gandhi)</td>\n",
              "      <td>2019</td>\n",
              "      <td>109.0</td>\n",
              "      <td>Drama</td>\n",
              "      <td>7.0</td>\n",
              "      <td>8</td>\n",
              "      <td>Gaurav Bakshi</td>\n",
              "      <td>Rasika Dugal</td>\n",
              "      <td>Vivek Ghamande</td>\n",
              "      <td>Arvind Jangid</td>\n",
              "    </tr>\n",
              "    <tr>\n",
              "      <th>3</th>\n",
              "      <td>#Yaaram</td>\n",
              "      <td>2019</td>\n",
              "      <td>110.0</td>\n",
              "      <td>Comedy, Romance</td>\n",
              "      <td>4.4</td>\n",
              "      <td>35</td>\n",
              "      <td>Ovais Khan</td>\n",
              "      <td>Prateik</td>\n",
              "      <td>Ishita Raj</td>\n",
              "      <td>Siddhant Kapoor</td>\n",
              "    </tr>\n",
              "    <tr>\n",
              "      <th>5</th>\n",
              "      <td>...Aur Pyaar Ho Gaya</td>\n",
              "      <td>1997</td>\n",
              "      <td>147.0</td>\n",
              "      <td>Comedy, Drama, Musical</td>\n",
              "      <td>4.7</td>\n",
              "      <td>827</td>\n",
              "      <td>Rahul Rawail</td>\n",
              "      <td>Bobby Deol</td>\n",
              "      <td>Aishwarya Rai Bachchan</td>\n",
              "      <td>Shammi Kapoor</td>\n",
              "    </tr>\n",
              "    <tr>\n",
              "      <th>6</th>\n",
              "      <td>...Yahaan</td>\n",
              "      <td>2005</td>\n",
              "      <td>142.0</td>\n",
              "      <td>Drama, Romance, War</td>\n",
              "      <td>7.4</td>\n",
              "      <td>1086</td>\n",
              "      <td>Shoojit Sircar</td>\n",
              "      <td>Jimmy Sheirgill</td>\n",
              "      <td>Minissha Lamba</td>\n",
              "      <td>Yashpal Sharma</td>\n",
              "    </tr>\n",
              "    <tr>\n",
              "      <th>8</th>\n",
              "      <td>?: A Question Mark</td>\n",
              "      <td>2012</td>\n",
              "      <td>82.0</td>\n",
              "      <td>Horror, Mystery, Thriller</td>\n",
              "      <td>5.6</td>\n",
              "      <td>326</td>\n",
              "      <td>Allyson Patel</td>\n",
              "      <td>Yash Dave</td>\n",
              "      <td>Muntazir Ahmad</td>\n",
              "      <td>Kiran Bhatia</td>\n",
              "    </tr>\n",
              "  </tbody>\n",
              "</table>\n",
              "</div>"
            ],
            "text/plain": [
              "                                 Name  Year  Duration  \\\n",
              "1  #Gadhvi (He thought he was Gandhi)  2019     109.0   \n",
              "3                             #Yaaram  2019     110.0   \n",
              "5                ...Aur Pyaar Ho Gaya  1997     147.0   \n",
              "6                           ...Yahaan  2005     142.0   \n",
              "8                  ?: A Question Mark  2012      82.0   \n",
              "\n",
              "                       Genre  Rating  Votes        Director          Actor 1  \\\n",
              "1                      Drama     7.0      8   Gaurav Bakshi     Rasika Dugal   \n",
              "3            Comedy, Romance     4.4     35      Ovais Khan          Prateik   \n",
              "5     Comedy, Drama, Musical     4.7    827    Rahul Rawail       Bobby Deol   \n",
              "6        Drama, Romance, War     7.4   1086  Shoojit Sircar  Jimmy Sheirgill   \n",
              "8  Horror, Mystery, Thriller     5.6    326   Allyson Patel        Yash Dave   \n",
              "\n",
              "                  Actor 2          Actor 3  \n",
              "1          Vivek Ghamande    Arvind Jangid  \n",
              "3              Ishita Raj  Siddhant Kapoor  \n",
              "5  Aishwarya Rai Bachchan    Shammi Kapoor  \n",
              "6          Minissha Lamba   Yashpal Sharma  \n",
              "8          Muntazir Ahmad     Kiran Bhatia  "
            ]
          },
          "execution_count": 17,
          "metadata": {},
          "output_type": "execute_result"
        }
      ],
      "source": [
        "Movie_data.head()"
      ]
    },
    {
      "cell_type": "markdown",
      "metadata": {
        "id": "MyqwfxXV4AA0"
      },
      "source": [
        "##  ***EDA (Exploratory data Analysis)***"
      ]
    },
    {
      "cell_type": "code",
      "execution_count": 18,
      "metadata": {
        "colab": {
          "base_uri": "https://localhost:8080/",
          "height": 772
        },
        "id": "_xHbEZFR3X-O",
        "outputId": "2647cd47-799d-40e6-e3d9-0bc5b6f0e6f6"
      },
      "outputs": [
        {
          "name": "stdout",
          "output_type": "stream",
          "text": [
            "Top 10 Movies by Rating:\n",
            "                      Name  Rating\n",
            "8339       Love Qubool Hai    10.0\n",
            "5410            Half Songs     9.7\n",
            "2563                 Breed     9.6\n",
            "5077          Gho Gho Rani     9.4\n",
            "6852                  June     9.4\n",
            "14222  The Reluctant Crime     9.4\n",
            "1314          Ashok Vatika     9.3\n",
            "1729              Baikunth     9.3\n",
            "5125           God of gods     9.3\n",
            "8344          Love Sorries     9.3\n"
          ]
        },
        {
          "data": {
            "image/png": "[encoded data removed]",
            "text/plain": [
              "<Figure size 1000x600 with 1 Axes>"
            ]
          },
          "metadata": {},
          "output_type": "display_data"
        }
      ],
      "source": [
        "# Top 10 Movies by Rating\n",
        "top_10_movies = Movie_data.nlargest(10, 'Rating')\n",
        "print(\"Top 10 Movies by Rating:\")\n",
        "print(top_10_movies[['Name', 'Rating']])\n",
        "\n",
        "# Plot Top 10 Movies by Rating\n",
        "plt.figure(figsize=(10, 6))\n",
        "sns.barplot(x='Rating', y='Name', data=top_10_movies)\n",
        "plt.title('Top 10 Movies by Rating')\n",
        "plt.xlabel('Rating')\n",
        "plt.ylabel('Movie Name')\n",
        "plt.show()\n"
      ]
    },
    {
      "cell_type": "code",
      "execution_count": 19,
      "metadata": {
        "colab": {
          "base_uri": "https://localhost:8080/",
          "height": 564
        },
        "id": "WHeZqJiN4wda",
        "outputId": "dea532c3-4235-4151-d6c7-5435c80e492d"
      },
      "outputs": [
        {
          "data": {
            "image/png": "[encoded data removed]",
            "text/plain": [
              "<Figure size 1000x600 with 1 Axes>"
            ]
          },
          "metadata": {},
          "output_type": "display_data"
        }
      ],
      "source": [
        "# Relationship between the number of votes and movie ratings\n",
        "plt.figure(figsize=(10, 6))\n",
        "sns.scatterplot(x='Votes', y='Rating', data=Movie_data)\n",
        "plt.title('Relationship between Number of Votes and Movie Ratings')\n",
        "plt.xlabel('Number of Votes')\n",
        "plt.ylabel('Rating')\n",
        "plt.show()\n"
      ]
    },
    {
      "cell_type": "code",
      "execution_count": 20,
      "metadata": {
        "colab": {
          "base_uri": "https://localhost:8080/",
          "height": 926
        },
        "id": "rx0LoxP44sJk",
        "outputId": "86f83ad8-4f03-4cd1-a059-cb6059c90eb9"
      },
      "outputs": [
        {
          "name": "stdout",
          "output_type": "stream",
          "text": [
            "Top Actors by Number of Movies:\n",
            "Mithun Chakraborty    231\n",
            "Dharmendra            217\n",
            "Jeetendra             179\n",
            "Ashok Kumar           173\n",
            "Amitabh Bachchan      162\n",
            "Rekha                 133\n",
            "Rajesh Khanna         132\n",
            "Shashi Kapoor         126\n",
            "Sanjay Dutt           123\n",
            "Shatrughan Sinha      120\n",
            "Name: count, dtype: int64\n"
          ]
        },
        {
          "data": {
            "image/png": "[encoded data removed]",
            "text/plain": [
              "<Figure size 1200x800 with 1 Axes>"
            ]
          },
          "metadata": {},
          "output_type": "display_data"
        }
      ],
      "source": [
        "# Distribution of top actors by number of movies\n",
        "actor_counts = pd.concat([Movie_data['Actor 1'], Movie_data['Actor 2'], Movie_data['Actor 3']])\n",
        "actor_counts = actor_counts.value_counts().head(10)\n",
        "print(\"Top Actors by Number of Movies:\")\n",
        "print(actor_counts)\n",
        "\n",
        "# Plot Top Actors by Number of Movies\n",
        "plt.figure(figsize=(12, 8))\n",
        "sns.barplot(x=actor_counts.values, y=actor_counts.index)\n",
        "plt.title('Top Actors by Number of Movies')\n",
        "plt.xlabel('Number of Movies')\n",
        "plt.ylabel('Actor')\n",
        "plt.show()"
      ]
    },
    {
      "cell_type": "markdown",
      "metadata": {
        "id": "99ONm9LC3JyB"
      },
      "source": [
        "##  ***Feature Engineering***"
      ]
    },
    {
      "cell_type": "code",
      "execution_count": 21,
      "metadata": {
        "colab": {
          "base_uri": "https://localhost:8080/"
        },
        "id": "_XwkZmYlv5if",
        "outputId": "9378a45e-e95f-4b56-c93d-1d6b0ea4c56f"
      },
      "outputs": [
        {
          "name": "stdout",
          "output_type": "stream",
          "text": [
            "                                 Name  Year  Duration  Genre  Rating  Votes  \\\n",
            "1  #Gadhvi (He thought he was Gandhi)  2019     109.0      7     7.0      8   \n",
            "3                             #Yaaram  2019     110.0      4     4.4     35   \n",
            "3                             #Yaaram  2019     110.0     16     4.4     35   \n",
            "5                ...Aur Pyaar Ho Gaya  1997     147.0      4     4.7    827   \n",
            "5                ...Aur Pyaar Ho Gaya  1997     147.0      7     4.7    827   \n",
            "\n",
            "   Director  Actor 1  Actor 2  Actor 3  \n",
            "1       755     1686     2725      373  \n",
            "3      1637     1500      865     2543  \n",
            "3      1637     1500      865     2543  \n",
            "5      1881      481       84     2422  \n",
            "5      1881      481       84     2422  \n"
          ]
        }
      ],
      "source": [
        "from sklearn.preprocessing import LabelEncoder\n",
        "\n",
        "# Initialize LabelEncoder\n",
        "labelencoder = LabelEncoder()\n",
        "\n",
        "# Encode categorical features\n",
        "Movie_data['Genre'] = Movie_data['Genre'].apply(lambda x: x.split(', '))\n",
        "Movie_data = Movie_data.explode('Genre')\n",
        "Movie_data['Genre'] = labelencoder.fit_transform(Movie_data['Genre'])\n",
        "Movie_data['Director'] = labelencoder.fit_transform(Movie_data['Director'])\n",
        "Movie_data['Actor 1'] = labelencoder.fit_transform(Movie_data['Actor 1'])\n",
        "Movie_data['Actor 2'] = labelencoder.fit_transform(Movie_data['Actor 2'])\n",
        "Movie_data['Actor 3'] = labelencoder.fit_transform(Movie_data['Actor 3'])\n",
        "\n",
        "# One-hot encode the 'Genre' column\n",
        "movie_data = pd.get_dummies(Movie_data, columns=['Genre'], drop_first=True)\n",
        "\n",
        "# Display the first few rows of the transformed data\n",
        "print(Movie_data.head())\n",
        "\n"
      ]
    },
    {
      "cell_type": "code",
      "execution_count": 22,
      "metadata": {
        "id": "5UVv26KwVvIR"
      },
      "outputs": [],
      "source": [
        "# Ensure all values in 'Genre' column are strings\n",
        "Movie_data['Genre'] = Movie_data['Genre'].astype(str)\n",
        "\n",
        "# One-hot encode the 'Genre' column\n",
        "Movie_data['Genre'] = Movie_data['Genre'].apply(lambda x: x.split(', '))\n",
        "Movie_data = Movie_data.explode('Genre')\n",
        "Movie_data = pd.get_dummies(Movie_data, columns=['Genre'], drop_first=True)\n"
      ]
    },
    {
      "cell_type": "code",
      "execution_count": 23,
      "metadata": {
        "colab": {
          "base_uri": "https://localhost:8080/",
          "height": 412
        },
        "id": "VQmkVXZW42t-",
        "outputId": "272e26e8-73e0-4d70-b828-ec66e4a2eec8"
      },
      "outputs": [
        {
          "data": {
            "text/html": [
              "<div>\n",
              "<style scoped>\n",
              "    .dataframe tbody tr th:only-of-type {\n",
              "        vertical-align: middle;\n",
              "    }\n",
              "\n",
              "    .dataframe tbody tr th {\n",
              "        vertical-align: top;\n",
              "    }\n",
              "\n",
              "    .dataframe thead th {\n",
              "        text-align: right;\n",
              "    }\n",
              "</style>\n",
              "<table border=\"1\" class=\"dataframe\">\n",
              "  <thead>\n",
              "    <tr style=\"text-align: right;\">\n",
              "      <th></th>\n",
              "      <th>Name</th>\n",
              "      <th>Year</th>\n",
              "      <th>Duration</th>\n",
              "      <th>Rating</th>\n",
              "      <th>Votes</th>\n",
              "      <th>Director</th>\n",
              "      <th>Actor 1</th>\n",
              "      <th>Actor 2</th>\n",
              "      <th>Actor 3</th>\n",
              "      <th>Genre_1</th>\n",
              "      <th>...</th>\n",
              "      <th>Genre_2</th>\n",
              "      <th>Genre_20</th>\n",
              "      <th>Genre_21</th>\n",
              "      <th>Genre_3</th>\n",
              "      <th>Genre_4</th>\n",
              "      <th>Genre_5</th>\n",
              "      <th>Genre_6</th>\n",
              "      <th>Genre_7</th>\n",
              "      <th>Genre_8</th>\n",
              "      <th>Genre_9</th>\n",
              "    </tr>\n",
              "  </thead>\n",
              "  <tbody>\n",
              "    <tr>\n",
              "      <th>1</th>\n",
              "      <td>#Gadhvi (He thought he was Gandhi)</td>\n",
              "      <td>2019</td>\n",
              "      <td>109.0</td>\n",
              "      <td>7.0</td>\n",
              "      <td>8</td>\n",
              "      <td>755</td>\n",
              "      <td>1686</td>\n",
              "      <td>2725</td>\n",
              "      <td>373</td>\n",
              "      <td>False</td>\n",
              "      <td>...</td>\n",
              "      <td>False</td>\n",
              "      <td>False</td>\n",
              "      <td>False</td>\n",
              "      <td>False</td>\n",
              "      <td>False</td>\n",
              "      <td>False</td>\n",
              "      <td>False</td>\n",
              "      <td>True</td>\n",
              "      <td>False</td>\n",
              "      <td>False</td>\n",
              "    </tr>\n",
              "    <tr>\n",
              "      <th>3</th>\n",
              "      <td>#Yaaram</td>\n",
              "      <td>2019</td>\n",
              "      <td>110.0</td>\n",
              "      <td>4.4</td>\n",
              "      <td>35</td>\n",
              "      <td>1637</td>\n",
              "      <td>1500</td>\n",
              "      <td>865</td>\n",
              "      <td>2543</td>\n",
              "      <td>False</td>\n",
              "      <td>...</td>\n",
              "      <td>False</td>\n",
              "      <td>False</td>\n",
              "      <td>False</td>\n",
              "      <td>False</td>\n",
              "      <td>True</td>\n",
              "      <td>False</td>\n",
              "      <td>False</td>\n",
              "      <td>False</td>\n",
              "      <td>False</td>\n",
              "      <td>False</td>\n",
              "    </tr>\n",
              "    <tr>\n",
              "      <th>3</th>\n",
              "      <td>#Yaaram</td>\n",
              "      <td>2019</td>\n",
              "      <td>110.0</td>\n",
              "      <td>4.4</td>\n",
              "      <td>35</td>\n",
              "      <td>1637</td>\n",
              "      <td>1500</td>\n",
              "      <td>865</td>\n",
              "      <td>2543</td>\n",
              "      <td>False</td>\n",
              "      <td>...</td>\n",
              "      <td>False</td>\n",
              "      <td>False</td>\n",
              "      <td>False</td>\n",
              "      <td>False</td>\n",
              "      <td>False</td>\n",
              "      <td>False</td>\n",
              "      <td>False</td>\n",
              "      <td>False</td>\n",
              "      <td>False</td>\n",
              "      <td>False</td>\n",
              "    </tr>\n",
              "    <tr>\n",
              "      <th>5</th>\n",
              "      <td>...Aur Pyaar Ho Gaya</td>\n",
              "      <td>1997</td>\n",
              "      <td>147.0</td>\n",
              "      <td>4.7</td>\n",
              "      <td>827</td>\n",
              "      <td>1881</td>\n",
              "      <td>481</td>\n",
              "      <td>84</td>\n",
              "      <td>2422</td>\n",
              "      <td>False</td>\n",
              "      <td>...</td>\n",
              "      <td>False</td>\n",
              "      <td>False</td>\n",
              "      <td>False</td>\n",
              "      <td>False</td>\n",
              "      <td>True</td>\n",
              "      <td>False</td>\n",
              "      <td>False</td>\n",
              "      <td>False</td>\n",
              "      <td>False</td>\n",
              "      <td>False</td>\n",
              "    </tr>\n",
              "    <tr>\n",
              "      <th>5</th>\n",
              "      <td>...Aur Pyaar Ho Gaya</td>\n",
              "      <td>1997</td>\n",
              "      <td>147.0</td>\n",
              "      <td>4.7</td>\n",
              "      <td>827</td>\n",
              "      <td>1881</td>\n",
              "      <td>481</td>\n",
              "      <td>84</td>\n",
              "      <td>2422</td>\n",
              "      <td>False</td>\n",
              "      <td>...</td>\n",
              "      <td>False</td>\n",
              "      <td>False</td>\n",
              "      <td>False</td>\n",
              "      <td>False</td>\n",
              "      <td>False</td>\n",
              "      <td>False</td>\n",
              "      <td>False</td>\n",
              "      <td>True</td>\n",
              "      <td>False</td>\n",
              "      <td>False</td>\n",
              "    </tr>\n",
              "  </tbody>\n",
              "</table>\n",
              "<p>5 rows × 30 columns</p>\n",
              "</div>"
            ],
            "text/plain": [
              "                                 Name  Year  Duration  Rating  Votes  \\\n",
              "1  #Gadhvi (He thought he was Gandhi)  2019     109.0     7.0      8   \n",
              "3                             #Yaaram  2019     110.0     4.4     35   \n",
              "3                             #Yaaram  2019     110.0     4.4     35   \n",
              "5                ...Aur Pyaar Ho Gaya  1997     147.0     4.7    827   \n",
              "5                ...Aur Pyaar Ho Gaya  1997     147.0     4.7    827   \n",
              "\n",
              "   Director  Actor 1  Actor 2  Actor 3  Genre_1  ...  Genre_2  Genre_20  \\\n",
              "1       755     1686     2725      373    False  ...    False     False   \n",
              "3      1637     1500      865     2543    False  ...    False     False   \n",
              "3      1637     1500      865     2543    False  ...    False     False   \n",
              "5      1881      481       84     2422    False  ...    False     False   \n",
              "5      1881      481       84     2422    False  ...    False     False   \n",
              "\n",
              "   Genre_21  Genre_3  Genre_4  Genre_5  Genre_6  Genre_7  Genre_8  Genre_9  \n",
              "1     False    False    False    False    False     True    False    False  \n",
              "3     False    False     True    False    False    False    False    False  \n",
              "3     False    False    False    False    False    False    False    False  \n",
              "5     False    False     True    False    False    False    False    False  \n",
              "5     False    False    False    False    False     True    False    False  \n",
              "\n",
              "[5 rows x 30 columns]"
            ]
          },
          "execution_count": 23,
          "metadata": {},
          "output_type": "execute_result"
        }
      ],
      "source": [
        "Movie_data.head()"
      ]
    },
    {
      "cell_type": "markdown",
      "metadata": {
        "id": "IhoxRoCoxSPY"
      },
      "source": [
        "##  ***Model Building***"
      ]
    },
    {
      "cell_type": "code",
      "execution_count": 24,
      "metadata": {
        "id": "ircrdGxLyNZe"
      },
      "outputs": [],
      "source": [
        "from sklearn.model_selection import train_test_split\n",
        "from sklearn.linear_model import LinearRegression\n",
        "from sklearn.metrics import mean_squared_error, mean_absolute_error, r2_score\n",
        "\n",
        "# Drop the 'Name' column as it is not useful for prediction\n",
        "Movie_data.drop(columns=['Name'], inplace=True)\n",
        "\n",
        "# Separate features and target variable\n",
        "X = Movie_data.drop(['Rating'], axis=1)\n",
        "y = Movie_data['Rating']\n",
        "\n",
        "# Split the dataset into training and testing sets\n",
        "X_train, X_test, y_train, y_test = train_test_split(X, y, test_size=0.2, random_state=42)\n",
        "\n",
        "# Train a Linear Regression model on the training set\n",
        "model = LinearRegression()\n",
        "model.fit(X_train, y_train)\n",
        "\n",
        "# Predict on the test set\n",
        "y_pred = model.predict(X_test)"
      ]
    },
    {
      "cell_type": "code",
      "execution_count": 25,
      "metadata": {
        "colab": {
          "base_uri": "https://localhost:8080/"
        },
        "id": "1Oz8N-XVStzi",
        "outputId": "a678a846-cef4-4e87-a049-3a3428157079"
      },
      "outputs": [
        {
          "data": {
            "text/plain": [
              "4640     5.5\n",
              "14536    3.4\n",
              "12694    6.8\n",
              "3942     8.1\n",
              "13633    7.1\n",
              "        ... \n",
              "1399     4.2\n",
              "9114     7.2\n",
              "4711     7.2\n",
              "13012    4.9\n",
              "12971    4.7\n",
              "Name: Rating, Length: 3076, dtype: float64"
            ]
          },
          "execution_count": 25,
          "metadata": {},
          "output_type": "execute_result"
        }
      ],
      "source": [
        "y_test"
      ]
    },
    {
      "cell_type": "markdown",
      "metadata": {
        "id": "V77YbCT83EJz"
      },
      "source": [
        "##  ***Model Evaluation***"
      ]
    },
    {
      "cell_type": "code",
      "execution_count": 26,
      "metadata": {
        "colab": {
          "base_uri": "https://localhost:8080/"
        },
        "id": "chBf7XIY0Krn",
        "outputId": "3f1de608-2aa0-425e-e6bc-587af8d9378a"
      },
      "outputs": [
        {
          "name": "stdout",
          "output_type": "stream",
          "text": [
            "Mean Squared Error: 1.7353295148126058\n",
            "Mean Absolute Error: 1.0195608907456954\n",
            "R^2 Score: 0.08024256579571076\n",
            "Predictions on the test set: [6.08991645 5.83893552 5.44311857 ... 6.11514045 5.64954979 5.54572029]\n",
            "Actual ratings from the test set: 4640     5.5\n",
            "14536    3.4\n",
            "12694    6.8\n",
            "3942     8.1\n",
            "13633    7.1\n",
            "        ... \n",
            "1399     4.2\n",
            "9114     7.2\n",
            "4711     7.2\n",
            "13012    4.9\n",
            "12971    4.7\n",
            "Name: Rating, Length: 3076, dtype: float64\n"
          ]
        }
      ],
      "source": [
        "# Evaluate the model\n",
        "y_pred = model.predict(X_test)\n",
        "mse = mean_squared_error(y_test, y_pred)\n",
        "mae = mean_absolute_error(y_test, y_pred)\n",
        "r2 = r2_score(y_test, y_pred)\n",
        "\n",
        "print(f'Mean Squared Error: {mse}')\n",
        "print(f'Mean Absolute Error: {mae}')\n",
        "print(f'R^2 Score: {r2}')\n",
        "\n",
        "# Make predictions on the test set\n",
        "predictions = model.predict(X_test)\n",
        "\n",
        "# Print the predictions\n",
        "print(\"Predictions on the test set:\", predictions)\n",
        "\n",
        "# I want to compare the predictions with the actual ratings:\n",
        "# Print the actual ratings from the test set\n",
        "print(\"Actual ratings from the test set:\", y_test)"
      ]
    }
  ],
  "metadata": {
    "colab": {
      "authorship_tag": "ABX9TyNhLwYz3s4yFkaqvVQtjQdF",
      "include_colab_link": true,
      "provenance": []
    },
    "kernelspec": {
      "display_name": "Python 3",
      "name": "python3"
    },
    "language_info": {
      "codemirror_mode": {
        "name": "ipython",
        "version": 3
      },
      "file_extension": ".py",
      "mimetype": "text/x-python",
      "name": "python",
      "nbconvert_exporter": "python",
      "pygments_lexer": "ipython3",
      "version": "3.12.3"
    }
  },
  "nbformat": 4,
  "nbformat_minor": 0
}
